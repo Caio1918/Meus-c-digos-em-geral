{
 "cells": [
  {
   "cell_type": "markdown",
   "metadata": {},
   "source": [
    "# **TTI109 - Estatística**\n",
    "# **Laboratório 05 - Estatística Descritiva 4**\n",
    "# **Visualização de Dados**\n",
    "\n",
    "Nessa aula vamos aprender a construir:\n",
    "\n",
    "- Histograma\n",
    "   - Frequência Absoluta\n",
    "   - Frequência Relativa\n",
    "- Polígono de Frequência\n",
    "   - Frequência Absoluta\n",
    "   - Frequência Relativa\n",
    "- Ogiva ou Frequência Acumulada\n",
    "- Pareto\n",
    "- Setorial (circular) ou Pizza\n",
    "- Dados Emparelhados\n",
    "   - Dispersão\n",
    "   - Séries Temporais\n",
    "- Boxplot"
   ]
  },
  {
   "cell_type": "markdown",
   "metadata": {},
   "source": [
    "# **Exercício: Análise de Vendas em uma Loja de Eletrônicos**\n",
    "\n",
    "Uma loja de eletrônicos acompanhou suas vendas diárias ao longo de 30 dias. Além disso, a loja registrou o número de produtos vendidos por categoria (TVs, laptops, celulares, tablets) e os preços correspondentes. O objetivo é utilizar esses dados para criar diversos gráficos que permitam uma análise completa das vendas.\n",
    "\n",
    "### **Dados Fornecidos**\n",
    "\n",
    "**Vendas Diárias (número de unidades vendidas por dia durante 30 dias):**\n",
    "\n",
    "```\n",
    "[12, 15, 14, 10, 12, 16, 18, 17, 14, 19, 20, 22, 21, 15, 14, 13, 16, 15, 12, 10, 9, 11, 13, 17, 18, 19, 20, 21, 22, 23]\n",
    "```\n",
    "\n",
    "**Vendas por Categoria (número de unidades vendidas e preços por categoria):**\n",
    "\n",
    "- TVs: 60 unidades, preço médio (em Reais) 2.000,00\n",
    "- Laptops: 80 unidades, preço médio (em Reais) 3.500,00\n",
    "- Celulares: 200 unidades, preço médio (em Reais) 1.200,00\n",
    "- Tablets: 50 unidades, preço médio (em Reais) 1.800,00\n",
    "- Datas de Vendas (para séries temporais): Dias 1 a 30 do mês\n",
    "\n",
    "**Contrua os Gráficos:**\n",
    "\n",
    "- **Histograma**\n",
    "  - **Frequência:** Distribua as vendas diárias em intervalos (por exemplo, 5 intervalos) e crie um histograma para mostrar a frequência das vendas.\n",
    "  - **Frequência Relativa:** Construa o mesmo histograma, mas com a frequência relativa (proporção das vendas).\n",
    "- **Polígono de Frequência**\n",
    "  - **Frequência:** Construa um polígono de frequência conectando os pontos médios das barras do histograma de frequência.\n",
    "  - **Frequência Relativa:** Construa um polígono de frequência relativo conectando os pontos médios das barras do histograma de frequência relativa.\n",
    "- **Ogiva ou Frequência Acumulada**\n",
    "  - Construa uma ogiva utilizando as vendas diárias para mostrar a frequência acumulada.\n",
    "- **Gráfico de Pareto**\n",
    "  - Com base nas vendas por categoria, crie um gráfico de Pareto mostrando as unidades vendidas por categoria em ordem decrescente e a linha de frequência acumulada.\n",
    "- **Gráfico Setorial (Pizza)**\n",
    "  - Construa um gráfico de pizza para mostrar a participação de cada categoria no total de unidades vendidas.\n",
    "- **Dados Emparelhados**\n",
    "  - **Dispersão:** Relacione o número de unidades vendidas com o preço médio dos produtos e construa um gráfico de dispersão.\n",
    "  - **Séries Temporais:** Construa um gráfico de linhas para mostrar as vendas ao longo dos 30 dias.\n",
    "- **Boxplot**\n",
    "  - Construa um boxplot das vendas diárias para analisar a distribuição, mediana e possíveis outliers."
   ]
  },
  {
   "cell_type": "markdown",
   "metadata": {},
   "source": [
    "### **Criação dos DafaFrames com os dados fornecidos**"
   ]
  },
  {
   "cell_type": "code",
   "execution_count": 9,
   "metadata": {},
   "outputs": [],
   "source": [
    "# Criação dos DafaFrames com os dados fornecidos\n",
    "import pandas as pd\n",
    "import numpy as py \n",
    "import matplotlib.pyplot as plt\n",
    "from math import sqrt\n",
    "from math import ceil\n",
    "\n",
    "dados = pd.Series(\n",
    "    [12, 15, 14, 10, 12, 16, 18, 17, 14, 19, 20, 22, 21, 15, 14, 13, 16, 15, 12, 10, 9, 11, 13, 17, 18, 19, 20, 21, 22, 23]\n",
    ")"
   ]
  },
  {
   "cell_type": "markdown",
   "metadata": {},
   "source": [
    "### **Criando a tabela de frequências**"
   ]
  },
  {
   "cell_type": "code",
   "execution_count": 22,
   "metadata": {},
   "outputs": [
    {
     "data": {
      "text/html": [
       "<div>\n",
       "<style scoped>\n",
       "    .dataframe tbody tr th:only-of-type {\n",
       "        vertical-align: middle;\n",
       "    }\n",
       "\n",
       "    .dataframe tbody tr th {\n",
       "        vertical-align: top;\n",
       "    }\n",
       "\n",
       "    .dataframe thead th {\n",
       "        text-align: right;\n",
       "    }\n",
       "</style>\n",
       "<table border=\"1\" class=\"dataframe\">\n",
       "  <thead>\n",
       "    <tr style=\"text-align: right;\">\n",
       "      <th></th>\n",
       "      <th>Classe</th>\n",
       "      <th>Frequência</th>\n",
       "      <th>Pontos médios</th>\n",
       "      <th>Frequência Relativa</th>\n",
       "    </tr>\n",
       "  </thead>\n",
       "  <tbody>\n",
       "    <tr>\n",
       "      <th>0</th>\n",
       "      <td>(9, 12]</td>\n",
       "      <td>4</td>\n",
       "      <td>10.5</td>\n",
       "      <td>0.133333</td>\n",
       "    </tr>\n",
       "    <tr>\n",
       "      <th>1</th>\n",
       "      <td>(12, 15]</td>\n",
       "      <td>8</td>\n",
       "      <td>13.5</td>\n",
       "      <td>0.266667</td>\n",
       "    </tr>\n",
       "    <tr>\n",
       "      <th>2</th>\n",
       "      <td>(15, 18]</td>\n",
       "      <td>7</td>\n",
       "      <td>16.5</td>\n",
       "      <td>0.233333</td>\n",
       "    </tr>\n",
       "    <tr>\n",
       "      <th>3</th>\n",
       "      <td>(18, 21]</td>\n",
       "      <td>6</td>\n",
       "      <td>19.5</td>\n",
       "      <td>0.200000</td>\n",
       "    </tr>\n",
       "    <tr>\n",
       "      <th>4</th>\n",
       "      <td>(21, 24]</td>\n",
       "      <td>5</td>\n",
       "      <td>22.5</td>\n",
       "      <td>0.166667</td>\n",
       "    </tr>\n",
       "  </tbody>\n",
       "</table>\n",
       "</div>"
      ],
      "text/plain": [
       "     Classe  Frequência  Pontos médios  Frequência Relativa\n",
       "0   (9, 12]           4           10.5             0.133333\n",
       "1  (12, 15]           8           13.5             0.266667\n",
       "2  (15, 18]           7           16.5             0.233333\n",
       "3  (18, 21]           6           19.5             0.200000\n",
       "4  (21, 24]           5           22.5             0.166667"
      ]
     },
     "metadata": {},
     "output_type": "display_data"
    }
   ],
   "source": [
    "v_max = dados.max()\n",
    "v_min = dados.min()\n",
    "total = dados.count()\n",
    "amp = v_max - v_min\n",
    "qtde_classe = round(sqrt(total))\n",
    "h = ceil(amp/qtde_classe)\n",
    "\n",
    "freq = dados.value_counts(bins=qtde_classe).sort_index()\n",
    "\n",
    "df = pd.DataFrame(freq)\n",
    "df = df.reset_index()\n",
    "df.columns = [\"Classe\", \"Frequência\"]\n",
    "\n",
    "end_corrigido = v_min + h * qtde_classe\n",
    "intervalo = pd.interval_range(start= v_min, end= end_corrigido, freq=h)\n",
    "df[\"Classe\"] = intervalo\n",
    "\n",
    "pts_medios = []\n",
    "for inter in intervalo:\n",
    "    pts_medios.append(inter.mid)\n",
    "df[\"Pontos médios\"] = pts_medios\n",
    "\n",
    "df[\"Frequência Relativa\"] = df[\"Frequência\"] / total\n",
    "\n",
    "display(df)\n"
   ]
  },
  {
   "cell_type": "markdown",
   "metadata": {},
   "source": [
    "### **1 - Histograma  Frequência**"
   ]
  },
  {
   "cell_type": "code",
   "execution_count": 29,
   "metadata": {},
   "outputs": [
    {
     "data": {
      "image/png": "[encoded data removed]",
      "text/plain": [
       "<Figure size 640x480 with 1 Axes>"
      ]
     },
     "metadata": {},
     "output_type": "display_data"
    }
   ],
   "source": [
    "# 1. Histograma - Frequência\n",
    "import matplotlib.pyplot as plt\n",
    "\n",
    "classes = []\n",
    "\n",
    "for inter in intervalo:\n",
    "    classes.append(inter.left)\n",
    "\n",
    "classes.append(v_max)\n",
    "\n",
    "histograma = dados.hist(\n",
    "    bins= classes,\n",
    "    color= \"blue\",\n",
    "    edgecolor= \"black\",\n",
    "    grid= False\n",
    ")\n",
    "\n",
    "histograma.set(\n",
    "    xlabel= \"Preço [US$]\",\n",
    "    ylabel= \"Frequência - Número de navegadores GPS\",\n",
    "    title= \"Distribuição de frequência dos preços de GPS\",\n",
    "    xticks= df[\"Pontos médios\"],\n",
    "    yticks= range(0, df[\"Frequência\"].max())\n",
    ")\n",
    "\n",
    "plt.show()"
   ]
  },
  {
   "cell_type": "markdown",
   "metadata": {},
   "source": [
    "### **2. Histograma - Frequência Relativa**"
   ]
  },
  {
   "cell_type": "code",
   "execution_count": 33,
   "metadata": {},
   "outputs": [
    {
     "data": {
      "text/plain": [
       "[Text(0.5, 0, 'Preço [US$]'),\n",
       " Text(0, 0.5, 'Frequência Relativa - Número de navegadores GPS'),\n",
       " Text(0.5, 1.0, 'Frequência Relativa'),\n",
       " [<matplotlib.axis.XTick at 0x1f67548a710>,\n",
       "  <matplotlib.axis.XTick at 0x1f67548a6e0>,\n",
       "  <matplotlib.axis.XTick at 0x1f675489f30>,\n",
       "  <matplotlib.axis.XTick at 0x1f6755ea9e0>,\n",
       "  <matplotlib.axis.XTick at 0x1f6755eb250>],\n",
       " [<matplotlib.axis.YTick at 0x1f67548b3d0>,\n",
       "  <matplotlib.axis.YTick at 0x1f67548ad70>,\n",
       "  <matplotlib.axis.YTick at 0x1f67548a2c0>,\n",
       "  <matplotlib.axis.YTick at 0x1f675608790>,\n",
       "  <matplotlib.axis.YTick at 0x1f675609240>]]"
      ]
     },
     "execution_count": 33,
     "metadata": {},
     "output_type": "execute_result"
    },
    {
     "data": {
      "image/png": "[encoded data removed]",
      "text/plain": [
       "<Figure size 640x480 with 1 Axes>"
      ]
     },
     "metadata": {},
     "output_type": "display_data"
    }
   ],
   "source": [
    "# 2. Histograma - Frequência Relativa\n",
    "hist_freq_rela = dados.hist(\n",
    "    bins= classes,\n",
    "    color= \"green\",\n",
    "    edgecolor= \"black\",\n",
    "    grid= False\n",
    ")\n",
    "\n",
    "hist_freq_rela.set(\n",
    "    xlabel= \"Preço [US$]\",\n",
    "    ylabel= \"Frequência Relativa - Número de navegadores GPS\",\n",
    "    title= \"Frequência Relativa\",\n",
    "    xticks= df[\"Pontos médios\"],\n",
    "    yticks= range(0, df[\"Frequência\"].max()+2,2)\n",
    ")"
   ]
  },
  {
   "cell_type": "markdown",
   "metadata": {},
   "source": [
    "### **3. Polígono de Frequência - Frequência**"
   ]
  },
  {
   "cell_type": "code",
   "execution_count": null,
   "metadata": {},
   "outputs": [],
   "source": [
    "# 3. Polígono de Frequência - Frequência\n"
   ]
  },
  {
   "cell_type": "markdown",
   "metadata": {},
   "source": [
    "### **4. Polígono de Frequência - Frequência Relativa**"
   ]
  },
  {
   "cell_type": "code",
   "execution_count": null,
   "metadata": {},
   "outputs": [],
   "source": [
    "# 4. Polígono de Frequência - Frequência Relativa\n"
   ]
  },
  {
   "cell_type": "markdown",
   "metadata": {},
   "source": [
    "### **5. Ogiva (Frequência Acumulada)**"
   ]
  },
  {
   "cell_type": "code",
   "execution_count": null,
   "metadata": {},
   "outputs": [],
   "source": [
    "# 5. Ogiva (Frequência Acumulada)\n"
   ]
  },
  {
   "cell_type": "markdown",
   "metadata": {},
   "source": [
    "### **6. Gráfico de Pareto**"
   ]
  },
  {
   "cell_type": "code",
   "execution_count": null,
   "metadata": {},
   "outputs": [],
   "source": [
    "# 6. Gráfico de Pareto\n"
   ]
  },
  {
   "cell_type": "markdown",
   "metadata": {},
   "source": [
    "### **7. Gráfico Setorial (Pizza)**"
   ]
  },
  {
   "cell_type": "code",
   "execution_count": null,
   "metadata": {},
   "outputs": [],
   "source": [
    "# 7. Gráfico Setorial (Pizza)\n"
   ]
  },
  {
   "cell_type": "markdown",
   "metadata": {},
   "source": [
    "### **8. Dados Emparelhados - Dispersão**"
   ]
  },
  {
   "cell_type": "code",
   "execution_count": null,
   "metadata": {},
   "outputs": [],
   "source": [
    "# 8. Dados Emparelhados - Dispersão\n"
   ]
  },
  {
   "cell_type": "markdown",
   "metadata": {},
   "source": [
    "### **9. Dados Emparelhados - Séries Temporais**"
   ]
  },
  {
   "cell_type": "code",
   "execution_count": null,
   "metadata": {},
   "outputs": [],
   "source": [
    "# 9. Dados Emparelhados - Séries Temporais\n"
   ]
  },
  {
   "cell_type": "markdown",
   "metadata": {},
   "source": [
    "### **10. Boxplot**"
   ]
  },
  {
   "cell_type": "code",
   "execution_count": null,
   "metadata": {},
   "outputs": [],
   "source": [
    "# 10. Boxplot\n"
   ]
  },
  {
   "cell_type": "markdown",
   "metadata": {},
   "source": [
    "# **EXTRA: Análise dos quartis de um painel de dados**\n",
    "\n",
    "Um diagrama boxplot (ou caixa-e-bigode) é uma ferramenta de análise exploratória que destaca características importantes de um conjunto de dados.\n",
    "Os dados utilizados no exercício anterior de uma Loja de Eletrônicos são simples, pois o intuitofoi deé aprender a utilizara ferramenta Python.\n",
    " Para expandir o uso de boxplots, vamos importar um grande conjunto de dados levantados a partir das gorjetas dadas por clientes de um restaurante.\n",
    "\n",
    "O conjunto de dados possui os seguintes parâmetros:\n",
    "- **valor_total:** valor total gasto no restaurante\n",
    "- **gorjeta:** valor da gorjeta\n",
    "- **sexo:** como o cliente pagante se identificou\n",
    "- **fumante:** cliente fumante ou não\n",
    "- **dia:** dia do atendimento\n",
    "- **hora:** horário do atendimento\n",
    "- **tamanho:** número de pessoas à mesa."
   ]
  },
  {
   "cell_type": "code",
   "execution_count": null,
   "metadata": {},
   "outputs": [],
   "source": [
    "import numpy as np \n",
    "import matplotlib.pyplot as plt \n",
    "\n",
    "# Importação do conjunto de dados\n",
    "gorjetas = pd.read_csv(\"gorjetas.csv\")\n",
    "print('5 primeiras linhas do conjunto de dados:')\n",
    "display(gorjetas.head())\n",
    "\n",
    "# Determinação dos quartis\n",
    "quartis = gorjetas.quantile([0.25, 0.5, 0.75], axis=0,\n",
    "                            interpolation='linear', numeric_only=True)\n",
    "print('Tabela com os quartis para cada coluna numérica:')\n",
    "display(quartis)\n",
    "\n",
    "# Percentis customizados\n",
    "percentis = gorjetas.quantile([0.1, 0.3, 0.8], axis=0,\n",
    "                              interpolation='linear', numeric_only=True)\n",
    "print('Tabela com percentis customizados:')\n",
    "display(percentis)\n",
    "\n",
    "# Análise exploratória inicial\n",
    "print('Análise exploraória:')\n",
    "gorjetas.describe()"
   ]
  },
  {
   "cell_type": "markdown",
   "metadata": {},
   "source": [
    "### Boxplot - Painéis de dados\n",
    "\n",
    "O uso do método boxplot() tem seu total potencial realizado quando os dados são um DataFrame.\n",
    "\n",
    "Vamos checar a distribuição do valor das contas por dia de funcionamento do restaurante."
   ]
  },
  {
   "cell_type": "code",
   "execution_count": null,
   "metadata": {},
   "outputs": [],
   "source": [
    "gorjetas.boxplot(by='dia', column=['valor_total'], color='red', showmeans=True, figsize=(6, 5))\n",
    "\n",
    "# Título\n",
    "plt.title('Distribuição do valor das contas')\n",
    "plt.ylabel('Valor')\n",
    "plt.suptitle('')\n",
    "\n",
    "# Mostra o gráfico\n",
    "plt.show()"
   ]
  },
  {
   "cell_type": "markdown",
   "metadata": {},
   "source": [
    "### Agora, vamos examinar a distribuição das gorjetas por dia de funcionamento do restaurante"
   ]
  },
  {
   "cell_type": "code",
   "execution_count": null,
   "metadata": {},
   "outputs": [],
   "source": [
    "gorjetas.boxplot(by='dia', column=['gorjeta'], color='red', showmeans=True, figsize=(6, 5))\n",
    "\n",
    "# Título\n",
    "plt.title('Distribuição do valor das gosjetas')\n",
    "plt.ylabel('Valor')\n",
    "plt.suptitle('')\n",
    "\n",
    "# Mostra o gráfico\n",
    "plt.show()"
   ]
  },
  {
   "cell_type": "markdown",
   "metadata": {},
   "source": [
    "### Distribuição das gorjetas agrupada por período de funcionamento"
   ]
  },
  {
   "cell_type": "code",
   "execution_count": null,
   "metadata": {},
   "outputs": [],
   "source": [
    "gorjetas.boxplot(by='hora', column=['gorjeta'], color='red', showmeans=True, figsize=(6, 5))\n",
    "\n",
    "# Título\n",
    "plt.title('Distribuição do valor das gosjetas')\n",
    "plt.ylabel('Valor')\n",
    "plt.suptitle('')\n",
    "\n",
    "# Mostra o gráfico\n",
    "plt.show()"
   ]
  },
  {
   "cell_type": "markdown",
   "metadata": {},
   "source": [
    "### Também é possível agrupar a distribuição de gorjetas usando dois ou mais fatores.\n",
    "\n",
    "Aqui, vamos agrupar por dia de funcionamento e como o cliente pagante se identificou"
   ]
  },
  {
   "cell_type": "code",
   "execution_count": null,
   "metadata": {},
   "outputs": [],
   "source": [
    "gorjetas.boxplot(by=['dia', 'sexo'], column=['gorjeta'], color='red', showmeans=True, figsize=(12, 5))\n",
    "\n",
    "# Título\n",
    "plt.title('Distribuição do valor das gosjetas')\n",
    "plt.ylabel('Valor')\n",
    "plt.suptitle('')\n",
    "\n",
    "# Rotacionar os textos do eixo x em 45 graus\n",
    "plt.xticks(rotation=45)\n",
    "\n",
    "# Mostra o gráfico\n",
    "plt.show()"
   ]
  }
 ],
 "metadata": {
  "colab": {
   "collapsed_sections": [],
   "name": "TTI109_Aula_04_Versão_Professor.ipynb",
   "provenance": [],
   "toc_visible": true
  },
  "kernelspec": {
   "display_name": "Python 3 (ipykernel)",
   "language": "python",
   "name": "python3"
  },
  "language_info": {
   "codemirror_mode": {
    "name": "ipython",
    "version": 3
   },
   "file_extension": ".py",
   "mimetype": "text/x-python",
   "name": "python",
   "nbconvert_exporter": "python",
   "pygments_lexer": "ipython3",
   "version": "3.12.4"
  }
 },
 "nbformat": 4,
 "nbformat_minor": 4
}

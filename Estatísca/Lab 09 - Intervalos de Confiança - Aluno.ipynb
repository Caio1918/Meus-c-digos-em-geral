{
  "cells": [
    {
      "cell_type": "markdown",
      "metadata": {},
      "source": [
        "# **TTI109 - Estatística**\n",
        "# **Laboratório 09 - Intervalos de Confiança**\n",
        "\n",
        "Nessa aula vamos aprender a construir:\n",
        "\n",
        "* Estimar o valor de um parâmetro populacional;\n",
        "* Fazer uma estimativa intervalar;\n",
        "* Encontrar a margem de erro;\n",
        "* Construir um intervalo de confiança."
      ]
    },
    {
      "cell_type": "markdown",
      "metadata": {},
      "source": [
        "### **Estimativa pontual**\n",
        "\n",
        "**Exercício:**\n",
        "\n",
        "Um pesquisador da área econômica está coletando dados sobre funcionários de mercearias em um condado. Os dados listados a seguir representam uma amostra aleatória do número de horas semanais trabalhadas por 40 funcionários de diversas mercearias no condado.\n",
        "\n",
        "*(Adaptado de: U.S. Bureau o Labor Statistics)*\n",
        "\n",
        "```Python\n",
        "[ 30, 26, 33, 26, 26, 33, 31, 31, 21, 37, \n",
        "  27, 20, 34, 35, 30, 24, 38, 34, 39, 31, \n",
        "  22, 30, 23, 23, 31, 44, 31, 33, 33, 26, \n",
        "  27, 28, 25, 35, 23, 32, 29, 31, 25, 27 ]\n",
        "```\n",
        "\n",
        "Encontre urna estimativa pontual da média populacional $\\mu$."
      ]
    },
    {
      "cell_type": "code",
      "execution_count": 1,
      "metadata": {
        "colab": {
          "base_uri": "https://localhost:8080/"
        },
        "id": "2ZsVVjQax-km",
        "outputId": "e695c3e5-8fb0-4425-cbca-ee76eac9d4c1"
      },
      "outputs": [
        {
          "name": "stdout",
          "output_type": "stream",
          "text": [
            "Média:  29.6\n"
          ]
        }
      ],
      "source": [
        "# Importa a biblioteca\n",
        "import pandas as pd\n",
        "\n",
        "# Dados amostrais\n",
        "horas = pd.Series([30, 26, 33, 26, 26, 33, 31, 31, 21, 37, \n",
        "  27, 20, 34, 35, 30, 24, 38, 34, 39, 31, \n",
        "  22, 30, 23, 23, 31, 44, 31, 33, 33, 26, \n",
        "  27, 28, 25, 35, 23, 32, 29, 31, 25, 27 ])\n",
        "\n",
        "# Estimativa da média populacional\n",
        "media = horas.mean()\n",
        "\n",
        "# Imprime\n",
        "print(\"Média: \", media)"
      ]
    },
    {
      "cell_type": "markdown",
      "metadata": {
        "id": "8YSJfudLIdBH"
      },
      "source": [
        "### **Intervalo de confiança para a média, com $\\sigma$ conhecido**\n",
        "\n",
        "Use os dados do da célula anterior para construir um intervalo de confiança de 95% para o número médio de horas semanais trabalhadas por funcionários de mercearias.\n",
        "\n",
        "Suponha que o desvio padrão da população seja de 7,9 horas."
      ]
    },
    {
      "cell_type": "code",
      "execution_count": 3,
      "metadata": {
        "colab": {
          "base_uri": "https://localhost:8080/"
        },
        "id": "cUcJnHfXgomZ",
        "outputId": "1d9ede24-347f-40ef-b165-fc41216d4563"
      },
      "outputs": [
        {
          "name": "stdout",
          "output_type": "stream",
          "text": [
            "intervalo de confiança 95% para a média populacional: 27.2 < média < 32.0\n"
          ]
        }
      ],
      "source": [
        "# Importa a biblioteca\n",
        "from scipy import stats as st\n",
        "\n",
        "# Desvio padrão populacional conhecido\n",
        "dpp = 7.9\n",
        "\n",
        "# Nível de confiança\n",
        "nc = 0.95\n",
        "\n",
        "# Desvio padrão da distribuiução normal das médias amostrais\n",
        "total_amostras = len(horas)\n",
        "dp = dpp / total_amostras ** 0.5\n",
        "\n",
        "# Intervalo de confiança de 95% para a média populacional\n",
        "ic = st.norm.interval(nc, loc=media, scale=dp)\n",
        "\n",
        "# Imprime\n",
        "print(f\"intervalo de confiança 95% para a média populacional: {ic[0]:.1f} < média < {ic[1]:.1f}\")"
      ]
    },
    {
      "cell_type": "markdown",
      "metadata": {
        "id": "58uNSo_sM8MF"
      },
      "source": [
        "### **Margem de Erro**\n",
        "\n",
        "Use os dados do exemplo anterior para encontrar a margem de erro:\n",
        "$$E =z_c \\frac{\\sigma}{\\sqrt{n}}$$\n",
        "\n",
        "Onde:\n",
        "* $z_c$ é o valor crítico da distribuição normal para o nível de confiança desejado.\n",
        "* $\\sigma$ é o desvio padrão populacional.\n",
        "* *n* é o tamanho da amostra.\n",
        "\n",
        "Você pode encontrar o valor crítico $z_c$ para o nível de confiança de 95% usando a função `ppf()` da distribuição normal padrão em `scipy.stats`. \n",
        "\n",
        "O valor de $z_c$ para um nível de confiança de 95% é aproximadamente 1,96."
      ]
    },
    {
      "cell_type": "code",
      "execution_count": 5,
      "metadata": {
        "colab": {
          "base_uri": "https://localhost:8080/",
          "height": 310
        },
        "id": "FxSWH_cYNcyT",
        "outputId": "2214ba4d-b69a-42c3-9a50-2f9aef4edc63"
      },
      "outputs": [
        {
          "name": "stdout",
          "output_type": "stream",
          "text": [
            "Margem de erro: 0.4\n"
          ]
        }
      ],
      "source": [
        "# Valor crítico (zc) para o nível de confiança de 95%\n",
        "zc = st.norm.ppf((1 + nc) / 2)\n",
        "\n",
        "# Cálculo da margem de erro\n",
        "E = zc * (dp / (total_amostras ** 0.5))\n",
        "\n",
        "# imprime\n",
        "print(f\"Margem de erro: {E:.1f}\")"
      ]
    },
    {
      "cell_type": "markdown",
      "metadata": {},
      "source": [
        "### **Intervalo de Confiança**\n",
        "\n",
        "Use os dados anteriores para construir um intervalo de confiança de 95% para o número médio de horas semanais trabalhadas por funcionários de mercearias.\n",
        "\n",
        "Para construir um intervalo de confiança de 95% para o número médio de horas semanais trabalhadas por funcionários de mercearias, vamos usar os dados anteriores. A fórmula para calcular o intervalo de confiança é:\n",
        "\n",
        "$$ \\overline{x} - E < \\mu < \\overline{x} + E $$\n",
        "\n",
        "Onde:\n",
        "* $\\overline{x}$ é a média amostral (número médio de horas semanais trabalhadas por funcionários)\n",
        "* *E* é a margem de erro, que já vimos\n",
        "\n",
        "Com os dados anteriores, temos:\n",
        "* $\\sigma$: 7.9 (desvio padrão populacional)\n",
        "* Nível de confiança de 95% ($z_c$ = 1,96 aproximadamente)\n",
        "* n: número de amostras\n",
        "* $\\overline{x}$ média amostral"
      ]
    },
    {
      "cell_type": "code",
      "execution_count": 7,
      "metadata": {},
      "outputs": [
        {
          "name": "stdout",
          "output_type": "stream",
          "text": [
            "intervalo de confiança 95% para a média populacional: 29.2 < 29.6 < 30.0\n"
          ]
        }
      ],
      "source": [
        "# Intervalo de confiança\n",
        "ic = (media - E, media + E)\n",
        "\n",
        "# Imprime\n",
        "print(f\"intervalo de confiança 95% para a média populacional: {ic[0]:.1f} < {media} < {ic[1]:.1f}\")"
      ]
    },
    {
      "cell_type": "markdown",
      "metadata": {
        "id": "U453JGSiYDCF"
      },
      "source": [
        "### **Intervalo de confiança para a média, com $\\sigma$ desconhecido**\n",
        "\n",
        "Você seleciona aleatoriamente 16 cafeterias e mede a temperatura do café vendido em cada uma delas. A temperatura média da amostra é 162,0 ºF com desvio padrão de 10,0 ºF. \n",
        "\n",
        "Construa um intervalo de confiança de 95% para a temperatura média da população de cafés vendidos.\n",
        "\n",
        "Suponha que as temperaturas tenham distribuição aproximadamente normal."
      ]
    },
    {
      "cell_type": "code",
      "execution_count": 8,
      "metadata": {
        "colab": {
          "base_uri": "https://localhost:8080/"
        },
        "id": "3R_giubnaP-7",
        "outputId": "d4f71882-ca90-4cff-f3ed-1d60b10fc1f7"
      },
      "outputs": [
        {
          "name": "stdout",
          "output_type": "stream",
          "text": [
            "intervalo de confiança 95% para a média populacional: 156.7 < média < 167.3\n"
          ]
        }
      ],
      "source": [
        "# Atributos da distribuição\n",
        "media = 162\n",
        "dp = 10\n",
        "n = 16\n",
        "nc = 0.95\n",
        "gl = n - 1\n",
        "\n",
        "# Intervalo de confiança para a média populacional\n",
        "ic = st.t.interval(confidence=nc, df=gl, loc=media, scale=dp / n ** 0.5)\n",
        "\n",
        "# Imprime\n",
        "print(f\"intervalo de confiança 95% para a média populacional: {ic[0]:.1f} < média < {ic[1]:.1f}\")"
      ]
    },
    {
      "cell_type": "markdown",
      "metadata": {},
      "source": [
        "## **A Distribuição Chi-Quadrado**\n",
        "\n",
        "Se a variável aleatória $x$ tem uma distribuição normal com desvio padrão $\\sigma$, então\n",
        "\n",
        "$$\\chi^2=\\frac{(n-1)s^2}{\\sigma^2}$$\n",
        "\n",
        "resulta em uma distribuição qui-quadrado com $n – 1$ graus de liberdade, para amostras de qualquer tamanho $n > 1$.\n",
        "\n",
        "No Python, usaremos o método *pdf* *(probability density function)* da classe *stats.chi2* (biblioteca *scipy*)."
      ]
    },
    {
      "cell_type": "code",
      "execution_count": null,
      "metadata": {},
      "outputs": [],
      "source": [
        "# Importa a biblioteca\n",
        "import numpy as np\n",
        "import matplotlib.pyplot as plt\n",
        "from scipy import stats as st\n",
        "\n",
        "# Geração da lista de graus de liberdade para a visualização (de 3 a 19)\n",
        "gl = list(range(3, 21, 2))\n",
        "\n",
        "# Geração de QUANT pontos no intervalo entre INICIO e FIM\n",
        "QUANT, INICIO, FIM = 750, 0, max(gl)*2\n",
        "\n",
        "# Plotagem dos gráficos\n",
        "for grau in gl:\n",
        "  # Determinação da distribuição chi-quadrado, com o correspondente gl\n",
        "  chiquad = st.chi2(df=grau)\n",
        "  x = np.linspace(INICIO, FIM, QUANT)\n",
        "  # Determinação da função densidade de probabilidade\n",
        "  y = chiquad.pdf(x)\n",
        "  plt.plot(x, y, label='gl = '+ str(grau))\n",
        "\n",
        "# Atributos do gráfico\n",
        "plt.legend()\n",
        "plt.xlim(0, max(gl)*2)\n",
        "plt.title('Distribuições Chi-quadrado')\n",
        "plt.xlabel('Valores da variável aleatória x')\n",
        "plt.ylabel('Probabilidade')\n",
        "plt.show()"
      ]
    },
    {
      "cell_type": "markdown",
      "metadata": {},
      "source": [
        "### **Exercício:**\n",
        "\n",
        "Encontre os valores críticos $\\chi^2_R$ e $\\chi^2_L$ para um intervalo de confiança de 95% quando o tamanho da amostra é 18."
      ]
    },
    {
      "cell_type": "code",
      "execution_count": null,
      "metadata": {},
      "outputs": [],
      "source": [
        "# Criação da distribuição chi-quadrado com 17 grau de liberdade\n",
        "\n",
        "\n",
        "# Nível de confiança\n",
        "\n",
        "\n",
        "# Determinação dos valores críticos\n",
        "\n",
        "\n",
        "# Imprime\n"
      ]
    },
    {
      "cell_type": "markdown",
      "metadata": {},
      "source": [
        "### **Intervalos de Confiança para $\\sigma^2$ e $\\sigma$**\n",
        "\n",
        "O intervalo de confiança *c* para a variância e o desvio padrão populacional é:\n",
        "\n",
        "* Intervalo de confiança para $\\sigma^2$:\n",
        "$$\\frac{(n-1)s^2}{\\chi^2_R} < \\sigma^2 < \\frac{(n-1)s^2}{\\chi^2_L}$$\n",
        "\n",
        "* Intervalo de confiança para $\\sigma$:\n",
        "$$\\sqrt{\\frac{(n-1)s^2}{\\chi^2_R}} < \\sigma < \\sqrt{\\frac{(n-1)s^2}{\\chi^2_L}}$$\n",
        "\n",
        "A probabilidade de que os intervalos de confiança contenham $\\sigma^2$ ou $\\sigma$ é *c*, supondo que o processo de estimação é repetido um grande número de vezes.\n",
        "\n",
        "**Exercício:**\n",
        "\n",
        "Você seleciona aleatoriamente e pesa as 30 unidades de uma amostra de um antialérgico. O desvio padrão da amostra é de 1,20 miligrama. Supondo que os pesos são normalmente distribuídos, construa intervalos de confiança de 99% para a variância e o desvio padrão da população de pesos dos remédios."
      ]
    },
    {
      "cell_type": "code",
      "execution_count": null,
      "metadata": {},
      "outputs": [],
      "source": [
        "# Criação da distribuição chi-quadrado com 29 grau de liberdade\n",
        "\n",
        "\n",
        "# Nível de confiança\n",
        "\n",
        "\n",
        "# Desvio padrão amostral\n",
        "\n",
        "\n",
        "# Determinação dos valores críticos\n",
        "\n",
        "\n",
        "# Extremos do IC para variância\n",
        "\n",
        "\n",
        "# Imprime\n"
      ]
    }
  ],
  "metadata": {
    "colab": {
      "provenance": []
    },
    "kernelspec": {
      "display_name": "Python 3",
      "name": "python3"
    },
    "language_info": {
      "codemirror_mode": {
        "name": "ipython",
        "version": 3
      },
      "file_extension": ".py",
      "mimetype": "text/x-python",
      "name": "python",
      "nbconvert_exporter": "python",
      "pygments_lexer": "ipython3",
      "version": "3.11.0"
    }
  },
  "nbformat": 4,
  "nbformat_minor": 0
}
